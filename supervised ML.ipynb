{
 "cells": [
  {
   "cell_type": "code",
   "execution_count": 4,
   "metadata": {},
   "outputs": [],
   "source": [
    "import pandas as pd\n",
    "import numpy as np\n",
    "import xgboost as xgb\n",
    "from sklearn.model_selection import train_test_split\n",
    "from sklearn.metrics import accuracy_score\n",
    "from sklearn.metrics import roc_curve\n",
    "from sklearn.metrics import precision_recall_curve\n",
    "from sklearn.metrics import average_precision_score\n",
    "import sklearn.metrics\n"
   ]
  },
  {
   "attachments": {},
   "cell_type": "markdown",
   "metadata": {},
   "source": [
    "## 1.Load data"
   ]
  },
  {
   "cell_type": "code",
   "execution_count": 5,
   "metadata": {},
   "outputs": [
    {
     "data": {
      "text/plain": [
       "<bound method NDFrame.head of        SID SEX  Tau  Thr  Ser  Glu   Gln  Pro  Gly   Ala  ...  Arg  ASA  Allo  \\\n",
       "0        1   M  174   55   85  205  1579  204  272   605  ...   13    Y     N   \n",
       "1        2   F   56   54  107  125   633  156  321   378  ...   52    Y     N   \n",
       "2        3   F   50   50   65   71   620  166  244   338  ...   73    Y     N   \n",
       "3        4   F   74   64   85   60   516  272  239   377  ...   67    Y     N   \n",
       "4        5   F   79   58  118  173  1426  266  285  4464  ...   18    N     N   \n",
       "...    ...  ..  ...  ...  ...  ...   ...  ...  ...   ...  ...  ...  ...   ...   \n",
       "2079  2080   M   39   73   59   21   554  219  170   281  ...   34    N     N   \n",
       "2080  2081   F   68  103  120   50   502  112  200   277  ...   58    N     N   \n",
       "2081  2082   F   61   56  114  145   498   98  214   245  ...   31    N     N   \n",
       "2082  2083   M   80   80   94   60   468  135  196   387  ...   36    N     N   \n",
       "2083  2084   M   54   80   65   34   631  225  225   317  ...   46    N     N   \n",
       "\n",
       "      Hcys  Glu.Gln  Citr.Gln  Gly.Total.AA  BCAA.Total.AA   Leu.Ala  \\\n",
       "0        N     1784  0.159595      0.065542       0.043614  0.102479   \n",
       "1        N      758  0.274882      0.124178       0.062282  0.126984   \n",
       "2        N      691  0.172581      0.104676       0.110682  0.213018   \n",
       "3        N      576  0.242248      0.093250       0.113539  0.212202   \n",
       "4        N     1599  1.524544      0.028429       0.019651  0.017249   \n",
       "...    ...      ...       ...           ...            ...       ...   \n",
       "2079     N      575  0.052347      0.080531       0.144008  0.306050   \n",
       "2080     N      552  0.045817      0.085106       0.158298  0.404332   \n",
       "2081     N      643  0.050201      0.104187       0.100292  0.236735   \n",
       "2082     N      528  0.040598      0.090364       0.125864  0.165375   \n",
       "2083     N      665  0.066561      0.088687       0.153725  0.378549   \n",
       "\n",
       "                                     Class  \n",
       "0                               X.Abnormal  \n",
       "1                               X.Abnormal  \n",
       "2                               X.Abnormal  \n",
       "3                               X.Abnormal  \n",
       "4                               X.Abnormal  \n",
       "...                                    ...  \n",
       "2079  No.significant.abnormality.detected.  \n",
       "2080  No.significant.abnormality.detected.  \n",
       "2081  No.significant.abnormality.detected.  \n",
       "2082  No.significant.abnormality.detected.  \n",
       "2083  No.significant.abnormality.detected.  \n",
       "\n",
       "[2084 rows x 30 columns]>"
      ]
     },
     "execution_count": 5,
     "metadata": {},
     "output_type": "execute_result"
    }
   ],
   "source": [
    "path_to_data = \"./data/clc317479-file001.csv\"\n",
    "df = pd.read_csv(path_to_data)\n",
    "df.head"
   ]
  },
  {
   "attachments": {},
   "cell_type": "markdown",
   "metadata": {},
   "source": [
    "## 2.Data processing\n",
    "Each row represents a patient, and the column contains the data for each patient. The data frame contains\n",
    "an identifying SID for each patient, the patient’s SEX, concentrations of different amino acids, alloisoleucine\n",
    "in Allo, homocysteine in Hcys, and argininosuccinic acid lyase deficiency in ASA. The Class column contains\n",
    "the “labels” normal and abnormal for each PAA profile"
   ]
  },
  {
   "cell_type": "code",
   "execution_count": 6,
   "metadata": {},
   "outputs": [],
   "source": [
    "# remove the SID column\n",
    "df = df.drop(['SID'], axis = 1)\n",
    "# convert SEX column to numerical codes\n",
    "df.loc[(df['SEX'] == 'F'), 'SEX'] = 0\n",
    "df.loc[(df['SEX'] == 'M'), 'SEX'] = 1\n",
    "df.loc[(df['SEX'] == 'U'), 'SEX'] = 2\n",
    "# convert ASA column to numerical codes\n",
    "df.loc[(df['ASA'] == 'N'), 'ASA'] = 0\n",
    "df.loc[(df['ASA'] == 'Y'), 'ASA'] = 1\n",
    "# convert Allo column to numerical codes\n",
    "df.loc[(df['Allo'] == 'N'), 'Allo'] = 0\n",
    "df.loc[(df['Allo'] == 'Y'), 'Allo'] = 1\n",
    "# convert Hcys column to numerical codes\n",
    "df.loc[(df['Hcys'] == 'N'), 'Hcys'] = 0\n",
    "df.loc[(df['Hcys'] == 'Y'), 'Hcys'] = 1\n",
    "# convert labels from text to numerical codes\n",
    "df.loc[(df['Class'] == 'No.significant.abnormality.detected.'), 'Class'] = 0\n",
    "df.loc[(df['Class'] == 'X.Abnormal'), 'Class'] = 1\n",
    "# save data as X and labels as Y\n",
    "X = df.iloc[:,:-1].to_numpy()\n",
    "Y = df.iloc[:,-1:].to_numpy()\n"
   ]
  },
  {
   "attachments": {},
   "cell_type": "markdown",
   "metadata": {},
   "source": [
    "## 3.Splitting our data into a training, test, and validation set"
   ]
  },
  {
   "cell_type": "code",
   "execution_count": 7,
   "metadata": {},
   "outputs": [],
   "source": [
    "SEED = 7 # setting a seed to make results reproducible\n",
    "TEST_SIZE = 0.30 # test set is 30% of data\n",
    "VAL_SIZE = 0.20 # 20% of data not in test set to be used as the validation set\n",
    "# Split dataset into Train and Test datasets\n",
    "x_train, x_test, y_train, y_test = train_test_split(X,\n",
    "Y,\n",
    "test_size = TEST_SIZE,\n",
    "random_state = SEED,\n",
    "stratify = Y)\n",
    "x_train, x_val, y_train, y_val = train_test_split(x_train,\n",
    "y_train,\n",
    "test_size = VAL_SIZE,\n",
    "random_state = SEED,\n",
    "stratify = y_train)"
   ]
  },
  {
   "attachments": {},
   "cell_type": "markdown",
   "metadata": {},
   "source": [
    "## 4.ML Training Protocol"
   ]
  },
  {
   "attachments": {},
   "cell_type": "markdown",
   "metadata": {},
   "source": [
    "After preparing the data, we are ready to train the XGBoost model. This function has a number of different\n",
    "parameters that we will explain briefly here:\n",
    "\n",
    "• learning_rate takes a value between 0 and 1, and this parameter controls how robust the model is to\n",
    "overfitting. Low values causes the model to be less prone to overfitting but causes the model to take\n",
    "longer to compute. The default value is 0.3, but we decided to lower learning_rate to 0.1 to reduce\n",
    "the risk of overfitting.\n",
    "\n",
    "• random_state is set to make the results reproducible (equivalent to setting a seed).\n",
    "\n",
    "• n_estimators is the number of boosted trees in the model.\n",
    "\n",
    "• objective specifies the learning task and the objective function. In our case, the learning task is binary\n",
    "and the function is logistic regression.\n",
    "\n",
    "• eval_metric specifies the metric to use for the validation data. We will use logloss for our model.\n",
    "\n",
    "• early_stopping_rounds: training will stop if validation performance does not improve after n iterations\n",
    "of training"
   ]
  },
  {
   "cell_type": "code",
   "execution_count": 8,
   "metadata": {},
   "outputs": [
    {
     "name": "stdout",
     "output_type": "stream",
     "text": [
      "[0]\tvalidation_0-logloss:0.56861\tvalidation_1-logloss:0.57939\n",
      "[1]\tvalidation_0-logloss:0.52631\tvalidation_1-logloss:0.53982\n",
      "[2]\tvalidation_0-logloss:0.48977\tvalidation_1-logloss:0.50724\n",
      "[3]\tvalidation_0-logloss:0.45540\tvalidation_1-logloss:0.48414\n",
      "[4]\tvalidation_0-logloss:0.42686\tvalidation_1-logloss:0.46191\n",
      "[5]\tvalidation_0-logloss:0.40233\tvalidation_1-logloss:0.44299\n",
      "[6]\tvalidation_0-logloss:0.37672\tvalidation_1-logloss:0.42681\n",
      "[7]\tvalidation_0-logloss:0.35584\tvalidation_1-logloss:0.40944\n",
      "[8]\tvalidation_0-logloss:0.33826\tvalidation_1-logloss:0.39117\n",
      "[9]\tvalidation_0-logloss:0.32134\tvalidation_1-logloss:0.37708\n",
      "[10]\tvalidation_0-logloss:0.30379\tvalidation_1-logloss:0.36126\n",
      "[11]\tvalidation_0-logloss:0.28907\tvalidation_1-logloss:0.34698\n",
      "[12]\tvalidation_0-logloss:0.27503\tvalidation_1-logloss:0.33593\n",
      "[13]\tvalidation_0-logloss:0.26310\tvalidation_1-logloss:0.32461\n",
      "[14]\tvalidation_0-logloss:0.25209\tvalidation_1-logloss:0.31535\n",
      "[15]\tvalidation_0-logloss:0.24229\tvalidation_1-logloss:0.30662\n",
      "[16]\tvalidation_0-logloss:0.23320\tvalidation_1-logloss:0.29979\n",
      "[17]\tvalidation_0-logloss:0.22426\tvalidation_1-logloss:0.29147\n",
      "[18]\tvalidation_0-logloss:0.21513\tvalidation_1-logloss:0.28393\n",
      "[19]\tvalidation_0-logloss:0.20855\tvalidation_1-logloss:0.27670\n",
      "[20]\tvalidation_0-logloss:0.20112\tvalidation_1-logloss:0.26996\n",
      "[21]\tvalidation_0-logloss:0.19375\tvalidation_1-logloss:0.26234\n",
      "[22]\tvalidation_0-logloss:0.18803\tvalidation_1-logloss:0.25965\n",
      "[23]\tvalidation_0-logloss:0.18108\tvalidation_1-logloss:0.25473\n"
     ]
    },
    {
     "name": "stderr",
     "output_type": "stream",
     "text": [
      "/Library/Frameworks/Python.framework/Versions/3.9/lib/python3.9/site-packages/xgboost/sklearn.py:885: UserWarning: `eval_metric` in `fit` method is deprecated for better compatibility with scikit-learn, use `eval_metric` in constructor or`set_params` instead.\n",
      "  warnings.warn(\n",
      "/Library/Frameworks/Python.framework/Versions/3.9/lib/python3.9/site-packages/xgboost/sklearn.py:885: UserWarning: `early_stopping_rounds` in `fit` method is deprecated for better compatibility with scikit-learn, use `early_stopping_rounds` in constructor or`set_params` instead.\n",
      "  warnings.warn(\n"
     ]
    },
    {
     "name": "stdout",
     "output_type": "stream",
     "text": [
      "[24]\tvalidation_0-logloss:0.17454\tvalidation_1-logloss:0.25157\n",
      "[25]\tvalidation_0-logloss:0.17011\tvalidation_1-logloss:0.24695\n",
      "[26]\tvalidation_0-logloss:0.16471\tvalidation_1-logloss:0.24463\n",
      "[27]\tvalidation_0-logloss:0.15984\tvalidation_1-logloss:0.24025\n",
      "[28]\tvalidation_0-logloss:0.15602\tvalidation_1-logloss:0.23766\n",
      "[29]\tvalidation_0-logloss:0.15122\tvalidation_1-logloss:0.23372\n",
      "[30]\tvalidation_0-logloss:0.14787\tvalidation_1-logloss:0.22840\n",
      "[31]\tvalidation_0-logloss:0.14326\tvalidation_1-logloss:0.22455\n",
      "[32]\tvalidation_0-logloss:0.14004\tvalidation_1-logloss:0.22137\n",
      "[33]\tvalidation_0-logloss:0.13573\tvalidation_1-logloss:0.22015\n",
      "[34]\tvalidation_0-logloss:0.13190\tvalidation_1-logloss:0.21655\n",
      "[35]\tvalidation_0-logloss:0.12899\tvalidation_1-logloss:0.21421\n",
      "[36]\tvalidation_0-logloss:0.12652\tvalidation_1-logloss:0.21080\n",
      "[37]\tvalidation_0-logloss:0.12425\tvalidation_1-logloss:0.20838\n",
      "[38]\tvalidation_0-logloss:0.12059\tvalidation_1-logloss:0.20613\n",
      "[39]\tvalidation_0-logloss:0.11636\tvalidation_1-logloss:0.20379\n",
      "[40]\tvalidation_0-logloss:0.11384\tvalidation_1-logloss:0.20172\n",
      "[41]\tvalidation_0-logloss:0.11125\tvalidation_1-logloss:0.19908\n",
      "[42]\tvalidation_0-logloss:0.10842\tvalidation_1-logloss:0.19707\n",
      "[43]\tvalidation_0-logloss:0.10682\tvalidation_1-logloss:0.19453\n",
      "[44]\tvalidation_0-logloss:0.10436\tvalidation_1-logloss:0.19308\n",
      "[45]\tvalidation_0-logloss:0.10200\tvalidation_1-logloss:0.19088\n",
      "[46]\tvalidation_0-logloss:0.09853\tvalidation_1-logloss:0.19083\n",
      "[47]\tvalidation_0-logloss:0.09628\tvalidation_1-logloss:0.18960\n",
      "[48]\tvalidation_0-logloss:0.09357\tvalidation_1-logloss:0.18916\n",
      "[49]\tvalidation_0-logloss:0.09166\tvalidation_1-logloss:0.18714\n",
      "[50]\tvalidation_0-logloss:0.08975\tvalidation_1-logloss:0.18726\n",
      "[51]\tvalidation_0-logloss:0.08856\tvalidation_1-logloss:0.18529\n",
      "[52]\tvalidation_0-logloss:0.08724\tvalidation_1-logloss:0.18482\n",
      "[53]\tvalidation_0-logloss:0.08506\tvalidation_1-logloss:0.18519\n",
      "[54]\tvalidation_0-logloss:0.08328\tvalidation_1-logloss:0.18364\n",
      "[55]\tvalidation_0-logloss:0.08228\tvalidation_1-logloss:0.18237\n",
      "[56]\tvalidation_0-logloss:0.08072\tvalidation_1-logloss:0.18162\n",
      "[57]\tvalidation_0-logloss:0.07928\tvalidation_1-logloss:0.18112\n",
      "[58]\tvalidation_0-logloss:0.07734\tvalidation_1-logloss:0.18128\n",
      "[59]\tvalidation_0-logloss:0.07532\tvalidation_1-logloss:0.17969\n",
      "[60]\tvalidation_0-logloss:0.07433\tvalidation_1-logloss:0.17853\n",
      "[61]\tvalidation_0-logloss:0.07304\tvalidation_1-logloss:0.17701\n",
      "[62]\tvalidation_0-logloss:0.07161\tvalidation_1-logloss:0.17585\n",
      "[63]\tvalidation_0-logloss:0.07015\tvalidation_1-logloss:0.17601\n",
      "[64]\tvalidation_0-logloss:0.06909\tvalidation_1-logloss:0.17479\n",
      "[65]\tvalidation_0-logloss:0.06840\tvalidation_1-logloss:0.17369\n",
      "[66]\tvalidation_0-logloss:0.06745\tvalidation_1-logloss:0.17337\n",
      "[67]\tvalidation_0-logloss:0.06565\tvalidation_1-logloss:0.17334\n",
      "[68]\tvalidation_0-logloss:0.06456\tvalidation_1-logloss:0.17268\n",
      "[69]\tvalidation_0-logloss:0.06371\tvalidation_1-logloss:0.17154\n",
      "[70]\tvalidation_0-logloss:0.06261\tvalidation_1-logloss:0.17100\n",
      "[71]\tvalidation_0-logloss:0.06166\tvalidation_1-logloss:0.17018\n",
      "[72]\tvalidation_0-logloss:0.06102\tvalidation_1-logloss:0.16991\n",
      "[73]\tvalidation_0-logloss:0.06034\tvalidation_1-logloss:0.16957\n",
      "[74]\tvalidation_0-logloss:0.05896\tvalidation_1-logloss:0.16886\n",
      "[75]\tvalidation_0-logloss:0.05813\tvalidation_1-logloss:0.16959\n",
      "[76]\tvalidation_0-logloss:0.05751\tvalidation_1-logloss:0.16902\n",
      "[77]\tvalidation_0-logloss:0.05662\tvalidation_1-logloss:0.16876\n",
      "[78]\tvalidation_0-logloss:0.05586\tvalidation_1-logloss:0.16805\n",
      "[79]\tvalidation_0-logloss:0.05506\tvalidation_1-logloss:0.16759\n",
      "[80]\tvalidation_0-logloss:0.05451\tvalidation_1-logloss:0.16706\n",
      "[81]\tvalidation_0-logloss:0.05352\tvalidation_1-logloss:0.16687\n",
      "[82]\tvalidation_0-logloss:0.05294\tvalidation_1-logloss:0.16678\n",
      "[83]\tvalidation_0-logloss:0.05172\tvalidation_1-logloss:0.16612\n",
      "[84]\tvalidation_0-logloss:0.05123\tvalidation_1-logloss:0.16550\n",
      "[85]\tvalidation_0-logloss:0.05023\tvalidation_1-logloss:0.16627\n",
      "[86]\tvalidation_0-logloss:0.04972\tvalidation_1-logloss:0.16545\n",
      "[87]\tvalidation_0-logloss:0.04933\tvalidation_1-logloss:0.16521\n",
      "[88]\tvalidation_0-logloss:0.04844\tvalidation_1-logloss:0.16505\n",
      "[89]\tvalidation_0-logloss:0.04757\tvalidation_1-logloss:0.16426\n",
      "[90]\tvalidation_0-logloss:0.04628\tvalidation_1-logloss:0.16442\n",
      "[91]\tvalidation_0-logloss:0.04581\tvalidation_1-logloss:0.16399\n",
      "[92]\tvalidation_0-logloss:0.04519\tvalidation_1-logloss:0.16366\n",
      "[93]\tvalidation_0-logloss:0.04409\tvalidation_1-logloss:0.16361\n",
      "[94]\tvalidation_0-logloss:0.04328\tvalidation_1-logloss:0.16384\n",
      "[95]\tvalidation_0-logloss:0.04257\tvalidation_1-logloss:0.16251\n",
      "[96]\tvalidation_0-logloss:0.04212\tvalidation_1-logloss:0.16226\n",
      "[97]\tvalidation_0-logloss:0.04134\tvalidation_1-logloss:0.16324\n",
      "[98]\tvalidation_0-logloss:0.04074\tvalidation_1-logloss:0.16286\n",
      "[99]\tvalidation_0-logloss:0.04026\tvalidation_1-logloss:0.16246\n",
      "[100]\tvalidation_0-logloss:0.03977\tvalidation_1-logloss:0.16158\n",
      "[101]\tvalidation_0-logloss:0.03909\tvalidation_1-logloss:0.16212\n",
      "[102]\tvalidation_0-logloss:0.03880\tvalidation_1-logloss:0.16216\n",
      "[103]\tvalidation_0-logloss:0.03812\tvalidation_1-logloss:0.16195\n",
      "[104]\tvalidation_0-logloss:0.03747\tvalidation_1-logloss:0.16200\n",
      "[105]\tvalidation_0-logloss:0.03692\tvalidation_1-logloss:0.16255\n",
      "[106]\tvalidation_0-logloss:0.03655\tvalidation_1-logloss:0.16270\n",
      "[107]\tvalidation_0-logloss:0.03593\tvalidation_1-logloss:0.16228\n",
      "[108]\tvalidation_0-logloss:0.03534\tvalidation_1-logloss:0.16163\n",
      "[109]\tvalidation_0-logloss:0.03494\tvalidation_1-logloss:0.16172\n",
      "[110]\tvalidation_0-logloss:0.03445\tvalidation_1-logloss:0.16108\n",
      "[111]\tvalidation_0-logloss:0.03400\tvalidation_1-logloss:0.16174\n",
      "[112]\tvalidation_0-logloss:0.03367\tvalidation_1-logloss:0.16157\n",
      "[113]\tvalidation_0-logloss:0.03323\tvalidation_1-logloss:0.16127\n",
      "[114]\tvalidation_0-logloss:0.03275\tvalidation_1-logloss:0.16105\n",
      "[115]\tvalidation_0-logloss:0.03224\tvalidation_1-logloss:0.16063\n",
      "[116]\tvalidation_0-logloss:0.03191\tvalidation_1-logloss:0.15983\n",
      "[117]\tvalidation_0-logloss:0.03161\tvalidation_1-logloss:0.15941\n",
      "[118]\tvalidation_0-logloss:0.03114\tvalidation_1-logloss:0.15972\n",
      "[119]\tvalidation_0-logloss:0.03080\tvalidation_1-logloss:0.16049\n",
      "[120]\tvalidation_0-logloss:0.03051\tvalidation_1-logloss:0.16071\n",
      "[121]\tvalidation_0-logloss:0.03015\tvalidation_1-logloss:0.16065\n",
      "[122]\tvalidation_0-logloss:0.02968\tvalidation_1-logloss:0.16044\n",
      "[123]\tvalidation_0-logloss:0.02948\tvalidation_1-logloss:0.16043\n",
      "[124]\tvalidation_0-logloss:0.02920\tvalidation_1-logloss:0.15981\n",
      "[125]\tvalidation_0-logloss:0.02865\tvalidation_1-logloss:0.16042\n",
      "[126]\tvalidation_0-logloss:0.02828\tvalidation_1-logloss:0.16011\n"
     ]
    },
    {
     "data": {
      "text/html": [
       "<style>#sk-container-id-1 {color: black;background-color: white;}#sk-container-id-1 pre{padding: 0;}#sk-container-id-1 div.sk-toggleable {background-color: white;}#sk-container-id-1 label.sk-toggleable__label {cursor: pointer;display: block;width: 100%;margin-bottom: 0;padding: 0.3em;box-sizing: border-box;text-align: center;}#sk-container-id-1 label.sk-toggleable__label-arrow:before {content: \"▸\";float: left;margin-right: 0.25em;color: #696969;}#sk-container-id-1 label.sk-toggleable__label-arrow:hover:before {color: black;}#sk-container-id-1 div.sk-estimator:hover label.sk-toggleable__label-arrow:before {color: black;}#sk-container-id-1 div.sk-toggleable__content {max-height: 0;max-width: 0;overflow: hidden;text-align: left;background-color: #f0f8ff;}#sk-container-id-1 div.sk-toggleable__content pre {margin: 0.2em;color: black;border-radius: 0.25em;background-color: #f0f8ff;}#sk-container-id-1 input.sk-toggleable__control:checked~div.sk-toggleable__content {max-height: 200px;max-width: 100%;overflow: auto;}#sk-container-id-1 input.sk-toggleable__control:checked~label.sk-toggleable__label-arrow:before {content: \"▾\";}#sk-container-id-1 div.sk-estimator input.sk-toggleable__control:checked~label.sk-toggleable__label {background-color: #d4ebff;}#sk-container-id-1 div.sk-label input.sk-toggleable__control:checked~label.sk-toggleable__label {background-color: #d4ebff;}#sk-container-id-1 input.sk-hidden--visually {border: 0;clip: rect(1px 1px 1px 1px);clip: rect(1px, 1px, 1px, 1px);height: 1px;margin: -1px;overflow: hidden;padding: 0;position: absolute;width: 1px;}#sk-container-id-1 div.sk-estimator {font-family: monospace;background-color: #f0f8ff;border: 1px dotted black;border-radius: 0.25em;box-sizing: border-box;margin-bottom: 0.5em;}#sk-container-id-1 div.sk-estimator:hover {background-color: #d4ebff;}#sk-container-id-1 div.sk-parallel-item::after {content: \"\";width: 100%;border-bottom: 1px solid gray;flex-grow: 1;}#sk-container-id-1 div.sk-label:hover label.sk-toggleable__label {background-color: #d4ebff;}#sk-container-id-1 div.sk-serial::before {content: \"\";position: absolute;border-left: 1px solid gray;box-sizing: border-box;top: 0;bottom: 0;left: 50%;z-index: 0;}#sk-container-id-1 div.sk-serial {display: flex;flex-direction: column;align-items: center;background-color: white;padding-right: 0.2em;padding-left: 0.2em;position: relative;}#sk-container-id-1 div.sk-item {position: relative;z-index: 1;}#sk-container-id-1 div.sk-parallel {display: flex;align-items: stretch;justify-content: center;background-color: white;position: relative;}#sk-container-id-1 div.sk-item::before, #sk-container-id-1 div.sk-parallel-item::before {content: \"\";position: absolute;border-left: 1px solid gray;box-sizing: border-box;top: 0;bottom: 0;left: 50%;z-index: -1;}#sk-container-id-1 div.sk-parallel-item {display: flex;flex-direction: column;z-index: 1;position: relative;background-color: white;}#sk-container-id-1 div.sk-parallel-item:first-child::after {align-self: flex-end;width: 50%;}#sk-container-id-1 div.sk-parallel-item:last-child::after {align-self: flex-start;width: 50%;}#sk-container-id-1 div.sk-parallel-item:only-child::after {width: 0;}#sk-container-id-1 div.sk-dashed-wrapped {border: 1px dashed gray;margin: 0 0.4em 0.5em 0.4em;box-sizing: border-box;padding-bottom: 0.4em;background-color: white;}#sk-container-id-1 div.sk-label label {font-family: monospace;font-weight: bold;display: inline-block;line-height: 1.2em;}#sk-container-id-1 div.sk-label-container {text-align: center;}#sk-container-id-1 div.sk-container {/* jupyter's `normalize.less` sets `[hidden] { display: none; }` but bootstrap.min.css set `[hidden] { display: none !important; }` so we also need the `!important` here to be able to override the default hidden behavior on the sphinx rendered scikit-learn.org. See: https://github.com/scikit-learn/scikit-learn/issues/21755 */display: inline-block !important;position: relative;}#sk-container-id-1 div.sk-text-repr-fallback {display: none;}</style><div id=\"sk-container-id-1\" class=\"sk-top-container\"><div class=\"sk-text-repr-fallback\"><pre>XGBClassifier(base_score=None, booster=None, callbacks=None,\n",
       "              colsample_bylevel=None, colsample_bynode=None,\n",
       "              colsample_bytree=None, device=None, early_stopping_rounds=None,\n",
       "              enable_categorical=False, eval_metric=None, feature_types=None,\n",
       "              gamma=None, grow_policy=None, importance_type=None,\n",
       "              interaction_constraints=None, learning_rate=0.1, max_bin=None,\n",
       "              max_cat_threshold=None, max_cat_to_onehot=None,\n",
       "              max_delta_step=None, max_depth=None, max_leaves=None,\n",
       "              min_child_weight=None, missing=nan, monotone_constraints=None,\n",
       "              multi_strategy=None, n_estimators=400, n_jobs=None,\n",
       "              num_parallel_tree=None, random_state=7, ...)</pre><b>In a Jupyter environment, please rerun this cell to show the HTML representation or trust the notebook. <br />On GitHub, the HTML representation is unable to render, please try loading this page with nbviewer.org.</b></div><div class=\"sk-container\" hidden><div class=\"sk-item\"><div class=\"sk-estimator sk-toggleable\"><input class=\"sk-toggleable__control sk-hidden--visually\" id=\"sk-estimator-id-1\" type=\"checkbox\" checked><label for=\"sk-estimator-id-1\" class=\"sk-toggleable__label sk-toggleable__label-arrow\">XGBClassifier</label><div class=\"sk-toggleable__content\"><pre>XGBClassifier(base_score=None, booster=None, callbacks=None,\n",
       "              colsample_bylevel=None, colsample_bynode=None,\n",
       "              colsample_bytree=None, device=None, early_stopping_rounds=None,\n",
       "              enable_categorical=False, eval_metric=None, feature_types=None,\n",
       "              gamma=None, grow_policy=None, importance_type=None,\n",
       "              interaction_constraints=None, learning_rate=0.1, max_bin=None,\n",
       "              max_cat_threshold=None, max_cat_to_onehot=None,\n",
       "              max_delta_step=None, max_depth=None, max_leaves=None,\n",
       "              min_child_weight=None, missing=nan, monotone_constraints=None,\n",
       "              multi_strategy=None, n_estimators=400, n_jobs=None,\n",
       "              num_parallel_tree=None, random_state=7, ...)</pre></div></div></div></div></div>"
      ],
      "text/plain": [
       "XGBClassifier(base_score=None, booster=None, callbacks=None,\n",
       "              colsample_bylevel=None, colsample_bynode=None,\n",
       "              colsample_bytree=None, device=None, early_stopping_rounds=None,\n",
       "              enable_categorical=False, eval_metric=None, feature_types=None,\n",
       "              gamma=None, grow_policy=None, importance_type=None,\n",
       "              interaction_constraints=None, learning_rate=0.1, max_bin=None,\n",
       "              max_cat_threshold=None, max_cat_to_onehot=None,\n",
       "              max_delta_step=None, max_depth=None, max_leaves=None,\n",
       "              min_child_weight=None, missing=nan, monotone_constraints=None,\n",
       "              multi_strategy=None, n_estimators=400, n_jobs=None,\n",
       "              num_parallel_tree=None, random_state=7, ...)"
      ]
     },
     "execution_count": 8,
     "metadata": {},
     "output_type": "execute_result"
    }
   ],
   "source": [
    "model_xgb = xgb.XGBClassifier(\n",
    "random_state = 7,\n",
    "n_estimators = 400,\n",
    "verbosity = 0,\n",
    "use_label_encoder = False,\n",
    "learning_rate = 0.1,\n",
    "objective = 'binary:logistic'\n",
    ")\n",
    "model_xgb.fit(\n",
    "X=x_train,\n",
    "y=y_train.ravel(),\n",
    "eval_set = [(x_train, y_train.ravel()), (x_val, y_val.ravel())],\n",
    "early_stopping_rounds=10,\n",
    "eval_metric=[\"logloss\"]\n",
    ")"
   ]
  },
  {
   "attachments": {},
   "cell_type": "markdown",
   "metadata": {},
   "source": [
    "## 5.Assessing for overfitting"
   ]
  },
  {
   "cell_type": "code",
   "execution_count": 9,
   "metadata": {},
   "outputs": [
    {
     "data": {
      "image/png": "[encoded data removed]",
      "text/plain": [
       "<Figure size 700x400 with 1 Axes>"
      ]
     },
     "metadata": {},
     "output_type": "display_data"
    }
   ],
   "source": [
    "import matplotlib.pyplot as plt\n",
    "from matplotlib.font_manager import FontProperties\n",
    "results = model_xgb.evals_result()\n",
    "epochs = len(results['validation_0']['logloss'])\n",
    "x_axis = range(0, epochs)\n",
    "fig, axs = plt.subplots(figsize=(7, 4), facecolor='w', edgecolor='k')\n",
    "font = FontProperties()\n",
    "font.set_name('Arial')\n",
    "plt.plot(x_axis, results['validation_0']['logloss'],\n",
    "label='Train', linewidth=1.3);\n",
    "plt.plot(x_axis, results['validation_1']['logloss'],\n",
    "label='Validation', color='C0',linestyle='--', linewidth=1.3);\n",
    "plt.axvline(x=219, color='r', linestyle='--', linewidth=1);\n",
    "plt.legend();\n",
    "plt.ylabel('Loss');\n",
    "plt.xlabel('Iteration', fontproperties=font, fontsize=12);\n",
    "plt.grid(True)\n",
    "plt.show()"
   ]
  },
  {
   "attachments": {},
   "cell_type": "markdown",
   "metadata": {},
   "source": [
    "## 6.Calculating performance metrics\n",
    "We will now test how well our model makes predictions on data it has not seen before. We’ll do that by\n",
    "using the model to make predictions on our test set and then comparing the predictions of the model to the\n",
    "answers (also known as labels'')."
   ]
  },
  {
   "cell_type": "code",
   "execution_count": 10,
   "metadata": {},
   "outputs": [
    {
     "name": "stdout",
     "output_type": "stream",
     "text": [
      "Binomial Classification Accuracy: 95.37%\n"
     ]
    }
   ],
   "source": [
    "# get predictions for test data\n",
    "y_preds = model_xgb.predict(x_test).astype(int)\n",
    "# get prediction probabilities for test data\n",
    "y_probs = model_xgb.predict_proba(x_test).astype(float)\n",
    "y_test = y_test.astype(int)\n",
    "# evaluate predictions\n",
    "accuracy = accuracy_score(y_test, y_preds)\n",
    "print(\"Binomial Classification Accuracy: %.2f%%\" % (accuracy * 100.0))"
   ]
  },
  {
   "attachments": {},
   "cell_type": "markdown",
   "metadata": {},
   "source": [
    "We evaluate the performance of the model’s predictions by calculating the precision, recall, and the area under\n",
    "the precision-recall curve (AUC-PR)."
   ]
  },
  {
   "cell_type": "code",
   "execution_count": 11,
   "metadata": {},
   "outputs": [
    {
     "data": {
      "image/png": "[encoded data removed]",
      "text/plain": [
       "<Figure size 500x400 with 1 Axes>"
      ]
     },
     "metadata": {},
     "output_type": "display_data"
    },
    {
     "data": {
      "text/plain": [
       "0.5"
      ]
     },
     "execution_count": 11,
     "metadata": {},
     "output_type": "execute_result"
    }
   ],
   "source": [
    "precision, recall, _ = precision_recall_curve(y_test, y_probs[:,1])\n",
    "auprc = round(sklearn.metrics.auc(recall, precision), 3)\n",
    "fig, axs = plt.subplots(1,1, figsize=(5, 4), facecolor='w', edgecolor='k')\n",
    "axs.annotate(\n",
    "\"Area under the PR curve: {0}\".format(auprc),\n",
    "xy=(0.8,0.1),\n",
    "xycoords=\"data\",\n",
    "va=\"center\",\n",
    "ha=\"center\",\n",
    "fontsize=18,\n",
    "bbox=dict(boxstyle=\"round\",fc=\"w\")\n",
    ");\n",
    "plt.plot(precision, recall, label=\"Test\", linewidth=2, linestyle='--');\n",
    "axs.set_xlabel('Recall', fontsize=14);\n",
    "axs.set_ylabel('Precision', fontsize=14);\n",
    "plt.grid(True)\n",
    "plt.show()\n",
    "0.5"
   ]
  }
 ],
 "metadata": {
  "kernelspec": {
   "display_name": "Python 3",
   "language": "python",
   "name": "python3"
  },
  "language_info": {
   "codemirror_mode": {
    "name": "ipython",
    "version": 3
   },
   "file_extension": ".py",
   "mimetype": "text/x-python",
   "name": "python",
   "nbconvert_exporter": "python",
   "pygments_lexer": "ipython3",
   "version": "3.9.6"
  },
  "orig_nbformat": 4,
  "vscode": {
   "interpreter": {
    "hash": "aee8b7b246df8f9039afb4144a1f6fd8d2ca17a180786b69acc140d282b71a49"
   }
  }
 },
 "nbformat": 4,
 "nbformat_minor": 2
}
